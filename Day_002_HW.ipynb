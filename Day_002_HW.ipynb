{
 "cells": [
  {
   "cell_type": "markdown",
   "metadata": {},
   "source": [
    "## [作業目標]\n",
    "了解機器學習適合應用的領域與範疇。"
   ]
  },
  {
   "cell_type": "markdown",
   "metadata": {},
   "source": [
    "## [作業重點]\n",
    "透過瞭解機器學習的運作方式，找出非常適用機器學習應用的領域及其原因"
   ]
  },
  {
   "cell_type": "markdown",
   "metadata": {},
   "source": [
    "## 作業\n",
    "請找出一個你認為機器學習可以發光發熱的領域並闡述原因? \n",
    "\n",
    "    #### 以數學上來講就是希望用數學函數來描述人類行為，但數學函數又過於簡化，因此目前比較好的應用成效都是落在簡單的人類行為上，譬如電腦視覺。所以我認為機器學習可以發光發熱的領域是醫療，透過電腦視覺來輔助醫生(並非取代醫生)進行X光片診斷; 另外也可以透過預先診斷系統讓病人先上傳自己的X光片，概略知道自己的病情，有助於日後看診時與醫生討論。\n",
    "    個人認為，AI人工智慧應該以幫助人類為前提之下繼續深耕，但舉凡像是請電腦畫畫、渲染、風格轉移等，甚至開電腦畫展等都是科技阿宅的炫技，一點幫助也沒有，讓人不禁又擔心AI是否又會進入另一個寒冬。\n"
   ]
  },
  {
   "cell_type": "code",
   "execution_count": null,
   "metadata": {},
   "outputs": [],
   "source": [
    "   "
   ]
  }
 ],
 "metadata": {
  "kernelspec": {
   "display_name": "Python 3",
   "language": "python",
   "name": "python3"
  },
  "language_info": {
   "codemirror_mode": {
    "name": "ipython",
    "version": 3
   },
   "file_extension": ".py",
   "mimetype": "text/x-python",
   "name": "python",
   "nbconvert_exporter": "python",
   "pygments_lexer": "ipython3",
   "version": "3.5.6"
  }
 },
 "nbformat": 4,
 "nbformat_minor": 2
}
